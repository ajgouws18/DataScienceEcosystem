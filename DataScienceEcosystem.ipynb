{
 "cells": [
  {
   "cell_type": "markdown",
   "id": "e1d077f5-83c7-4b87-887c-bab15a10a269",
   "metadata": {},
   "source": [
    "# Data Science Tools and Ecosystem\n",
    "(2-title.png)"
   ]
  },
  {
   "cell_type": "markdown",
   "id": "8caefe22-3829-4c9f-bf32-5c147cdb451d",
   "metadata": {},
   "source": [
    "## In this notebook, Data Science Tools and Ecosystems are summarized.\n",
    "\n",
    "(3-intro.png)"
   ]
  },
  {
   "cell_type": "markdown",
   "id": "470485fb-976b-498b-b09a-ff4ff0a59ed0",
   "metadata": {},
   "source": [
    "**Objectives:**\n",
    "* *List the Popular Languages for Data Science*\n",
    "* *List the Commonly used libraries for Data Science*\n",
    "* *List Data Science Tools*\n",
    "* *Evaluate Arithmetic Expressions*\n",
    "\n",
    "(10-objectives.png)"
   ]
  },
  {
   "cell_type": "markdown",
   "id": "2540c3a8-c566-4c28-b3ca-0fc765241d73",
   "metadata": {
    "jp-MarkdownHeadingCollapsed": true
   },
   "source": [
    "### Some of the popular languages that Data Scientists use are:\n",
    "1. Python\n",
    "2. R\n",
    "3. SQL\n",
    "4. Julia\n",
    "5. Java\n",
    "6. Scala\n",
    "\n",
    "(4-dslanguages.png)"
   ]
  },
  {
   "cell_type": "markdown",
   "id": "caaff9f8-cee8-479f-9049-cdf7dc3cfd54",
   "metadata": {
    "jp-MarkdownHeadingCollapsed": true
   },
   "source": [
    "### Some of the commonly used libraries used by Data Scientists include:\n",
    "1. Pandas\n",
    "2. Numpy\n",
    "3. plotly\n",
    "4. ggplot2\n",
    "5. matplotlib\n",
    "6. seaborn\n",
    "7. scikit-learn\n",
    "8. tensorflow/pytorch\n",
    "\n",
    "(5-dslibraries.png) "
   ]
  },
  {
   "cell_type": "markdown",
   "id": "18c951c7-b77e-4348-9d70-6a3874b68081",
   "metadata": {},
   "source": [
    "### Data Science Tools\n",
    "1. Jupyter Notebook\n",
    "2. Power BI\n",
    "3. Tableau\n",
    "4. Apache Spark\n",
    "5. Apache Hadoop\n",
    "6. Apacke Airflow\n",
    "7. GitHub\n",
    "8. MySQL\n",
    "\n",
    "(6-dstools.png)"
   ]
  },
  {
   "cell_type": "markdown",
   "id": "519ad59d-60ab-4208-a320-1ca87888c374",
   "metadata": {},
   "source": [
    "### Below are a few examples of evaluating arithmetic expressions in Python\n",
    "(7-introarithmetic.png)"
   ]
  },
  {
   "cell_type": "code",
   "execution_count": 1,
   "id": "c3b2fa64-2c57-4529-b7e1-ac2587e25965",
   "metadata": {},
   "outputs": [
    {
     "data": {
      "text/plain": [
       "17"
      ]
     },
     "execution_count": 1,
     "metadata": {},
     "output_type": "execute_result"
    }
   ],
   "source": [
    "# This is a simple arithmetic expression to multiply then add integers\n",
    "(3*4)+5"
   ]
  },
  {
   "cell_type": "markdown",
   "id": "0035f343-c18e-4e97-90a6-69e526f7c356",
   "metadata": {},
   "source": [
    "(8-multiplyandaddintegers.png)"
   ]
  },
  {
   "cell_type": "code",
   "execution_count": 5,
   "id": "142a7c88-c8c0-4ef8-bba2-2b021a22ddc7",
   "metadata": {},
   "outputs": [
    {
     "name": "stdout",
     "output_type": "stream",
     "text": [
      "Hours: 3.33\n"
     ]
    }
   ],
   "source": [
    "# This will convert 200 minutes to hours by dividing by 60\n",
    "result = 200/60\n",
    "print(f\"Hours: {result:.2f}\")"
   ]
  },
  {
   "cell_type": "markdown",
   "id": "9812a564-a1b8-4eba-886a-e0222606a396",
   "metadata": {},
   "source": [
    "(9-hourstominutes.png)"
   ]
  },
  {
   "cell_type": "markdown",
   "id": "1038ce41-6acb-433c-9744-ac9e9e27e10c",
   "metadata": {},
   "source": [
    "## Author\n",
    "AJ Gouws\n",
    "\n",
    "(11-authordetails.png)"
   ]
  },
  {
   "cell_type": "code",
   "execution_count": null,
   "id": "34fd1e37-56e9-4d9f-9f14-1c44718db22e",
   "metadata": {},
   "outputs": [],
   "source": []
  }
 ],
 "metadata": {
  "kernelspec": {
   "display_name": "Python 3 (ipykernel)",
   "language": "python",
   "name": "python3"
  },
  "language_info": {
   "codemirror_mode": {
    "name": "ipython",
    "version": 3
   },
   "file_extension": ".py",
   "mimetype": "text/x-python",
   "name": "python",
   "nbconvert_exporter": "python",
   "pygments_lexer": "ipython3",
   "version": "3.12.3"
  }
 },
 "nbformat": 4,
 "nbformat_minor": 5
}
